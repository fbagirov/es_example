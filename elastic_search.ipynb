{
 "cells": [
  {
   "cell_type": "code",
   "execution_count": 1,
   "metadata": {},
   "outputs": [],
   "source": [
    "#import elasticsearch_dsl\n",
    "from datetime import datetime\n",
    "import csv"
   ]
  },
  {
   "cell_type": "code",
   "execution_count": null,
   "metadata": {},
   "outputs": [],
   "source": [
    "# make sure ES is up and running\n",
    "import requests\n",
    "import pprint\n",
    "res = requests.get(\"http://localhost:9200\")\n",
    "pprint.pprint(res.content)"
   ]
  },
  {
   "cell_type": "code",
   "execution_count": 2,
   "metadata": {},
   "outputs": [],
   "source": [
    "# connect to the cluster\n",
    "from elasticsearch import Elasticsearch, helpers\n",
    "es = Elasticsearch([{'host':'localhost','port':9200}])"
   ]
  },
  {
   "cell_type": "code",
   "execution_count": 3,
   "metadata": {},
   "outputs": [
    {
     "data": {
      "text/plain": [
       "{'_index': 'test-index',\n",
       " '_type': 'test',\n",
       " '_id': '1',\n",
       " '_version': 1,\n",
       " 'result': 'created',\n",
       " '_shards': {'total': 2, 'successful': 1, 'failed': 0},\n",
       " '_seq_no': 16,\n",
       " '_primary_term': 3}"
      ]
     },
     "execution_count": 3,
     "metadata": {},
     "output_type": "execute_result"
    }
   ],
   "source": [
    "#index some test data\n",
    "es.index(index=\"test-index\", doc_type='test', id = 1, body={'test': 'test'})"
   ]
  },
  {
   "cell_type": "code",
   "execution_count": 4,
   "metadata": {},
   "outputs": [
    {
     "data": {
      "text/plain": [
       "{'_index': 'test-index',\n",
       " '_type': 'test',\n",
       " '_id': '1',\n",
       " '_version': 2,\n",
       " 'result': 'deleted',\n",
       " '_shards': {'total': 2, 'successful': 1, 'failed': 0},\n",
       " '_seq_no': 17,\n",
       " '_primary_term': 3}"
      ]
     },
     "execution_count": 4,
     "metadata": {},
     "output_type": "execute_result"
    }
   ],
   "source": [
    "#delete test data and try with something more interesting\n",
    "es.delete(index='test-index', doc_type='test', id=1)"
   ]
  },
  {
   "cell_type": "code",
   "execution_count": 5,
   "metadata": {},
   "outputs": [],
   "source": [
    "# create mapping\n",
    "mappings_sm = {\n",
    "'mappings': {\n",
    "        'my-index': {\n",
    "            'properties': {\n",
    "                'company_name': {'index': 'not_analyzed', 'type': 'string'},\n",
    "                'id': {'index': 'not_analyzed', 'type': 'string'},\n",
    "                'homepage_url': {'index': 'not_analyzed', 'type': 'string'},\n",
    "            }\n",
    "        }\n",
    "    }\n",
    "}"
   ]
  },
  {
   "cell_type": "code",
   "execution_count": 6,
   "metadata": {},
   "outputs": [
    {
     "data": {
      "text/plain": [
       "{'_index': 'my-index',\n",
       " '_type': '_doc',\n",
       " '_id': '1',\n",
       " '_version': 1,\n",
       " 'result': 'created',\n",
       " '_shards': {'total': 2, 'successful': 1, 'failed': 0},\n",
       " '_seq_no': 0,\n",
       " '_primary_term': 1}"
      ]
     },
     "execution_count": 6,
     "metadata": {},
     "output_type": "execute_result"
    }
   ],
   "source": [
    "#create index corpagon_kb\n",
    "es.index(index=\"my-index\", ignore=400, id = 1, body=mappings_sm)"
   ]
  },
  {
   "cell_type": "code",
   "execution_count": 7,
   "metadata": {},
   "outputs": [
    {
     "ename": "BulkIndexError",
     "evalue": "('10 document(s) failed to index.', [{'index': {'_index': 'my-index', '_type': 'csv', '_id': 'B0emFXIBkMp4belsEhC1', 'status': 400, 'error': {'type': 'illegal_argument_exception', 'reason': 'Rejecting mapping update to [my-index] as the final mapping would have more than 1 type: [_doc, csv]'}, 'data': OrderedDict([('ï»¿company_name', '42'), ('id', 'dab633e6-92bc-92a4-b749-21da835ad266'), ('homepage_url', 'http://www.42.fr')])}}, {'index': {'_index': 'my-index', '_type': 'csv', '_id': 'CEemFXIBkMp4belsEhC1', 'status': 400, 'error': {'type': 'illegal_argument_exception', 'reason': 'Rejecting mapping update to [my-index] as the final mapping would have more than 1 type: [_doc, csv]'}, 'data': OrderedDict([('ï»¿company_name', '47'), ('id', 'db4be793-725e-468e-abbd-c058078d67c6'), ('homepage_url', 'http://47brand.com')])}}, {'index': {'_index': 'my-index', '_type': 'csv', '_id': 'CUemFXIBkMp4belsEhC1', 'status': 400, 'error': {'type': 'illegal_argument_exception', 'reason': 'Rejecting mapping update to [my-index] as the final mapping would have more than 1 type: [_doc, csv]'}, 'data': OrderedDict([('ï»¿company_name', '52'), ('id', '861d168c-b703-47ed-8b23-1cc06c3a297d'), ('homepage_url', 'https://52inc.com/')])}}, {'index': {'_index': 'my-index', '_type': 'csv', '_id': 'CkemFXIBkMp4belsEhC1', 'status': 400, 'error': {'type': 'illegal_argument_exception', 'reason': 'Rejecting mapping update to [my-index] as the final mapping would have more than 1 type: [_doc, csv]'}, 'data': OrderedDict([('ï»¿company_name', '55'), ('id', '01eb53db-bcee-c57f-3ab1-54fb53f6de65'), ('homepage_url', 'http://www.fifty-five.com')])}}, {'index': {'_index': 'my-index', '_type': 'csv', '_id': 'C0emFXIBkMp4belsEhC1', 'status': 400, 'error': {'type': 'illegal_argument_exception', 'reason': 'Rejecting mapping update to [my-index] as the final mapping would have more than 1 type: [_doc, csv]'}, 'data': OrderedDict([('ï»¿company_name', '99'), ('id', 'c1723121-d8a2-457c-1b81-25fc42e78d95'), ('homepage_url', 'http://99app.com')])}}, {'index': {'_index': 'my-index', '_type': 'csv', '_id': 'DEemFXIBkMp4belsEhC1', 'status': 400, 'error': {'type': 'illegal_argument_exception', 'reason': 'Rejecting mapping update to [my-index] as the final mapping would have more than 1 type: [_doc, csv]'}, 'data': OrderedDict([('ï»¿company_name', '111'), ('id', '0680987f-23cd-4fa5-850c-38326fffaa36'), ('homepage_url', 'http://corporate.111.com.cn')])}}, {'index': {'_index': 'my-index', '_type': 'csv', '_id': 'DUemFXIBkMp4belsEhC1', 'status': 400, 'error': {'type': 'illegal_argument_exception', 'reason': 'Rejecting mapping update to [my-index] as the final mapping would have more than 1 type: [_doc, csv]'}, 'data': OrderedDict([('ï»¿company_name', '121'), ('id', 'f937b68d-577b-4a77-8f6f-39d29fb220fd'), ('homepage_url', 'http://121corp.com')])}}, {'index': {'_index': 'my-index', '_type': 'csv', '_id': 'DkemFXIBkMp4belsEhC1', 'status': 400, 'error': {'type': 'illegal_argument_exception', 'reason': 'Rejecting mapping update to [my-index] as the final mapping would have more than 1 type: [_doc, csv]'}, 'data': OrderedDict([('ï»¿company_name', '216'), ('id', '11b04fed-bd66-7a84-32cd-3a8df0e36045'), ('homepage_url', 'https://www.216.nl/')])}}, {'index': {'_index': 'my-index', '_type': 'csv', '_id': 'D0emFXIBkMp4belsEhC1', 'status': 400, 'error': {'type': 'illegal_argument_exception', 'reason': 'Rejecting mapping update to [my-index] as the final mapping would have more than 1 type: [_doc, csv]'}, 'data': OrderedDict([('ï»¿company_name', '237'), ('id', 'bd023349-36d4-4ec4-de8b-427dac4291f7'), ('homepage_url', 'http://237.io/')])}}, {'index': {'_index': 'my-index', '_type': 'csv', '_id': 'EEemFXIBkMp4belsEhC1', 'status': 400, 'error': {'type': 'illegal_argument_exception', 'reason': 'Rejecting mapping update to [my-index] as the final mapping would have more than 1 type: [_doc, csv]'}, 'data': OrderedDict([('ï»¿company_name', '366'), ('id', 'ba116a57-c83c-0d99-0f71-dd0735fc19e7'), ('homepage_url', 'http://www.366.fr/')])}}])",
     "output_type": "error",
     "traceback": [
      "\u001b[1;31m---------------------------------------------------------------------------\u001b[0m",
      "\u001b[1;31mBulkIndexError\u001b[0m                            Traceback (most recent call last)",
      "\u001b[1;32m<ipython-input-7-bafed9829c95>\u001b[0m in \u001b[0;36m<module>\u001b[1;34m\u001b[0m\n\u001b[0;32m      1\u001b[0m \u001b[1;32mwith\u001b[0m \u001b[0mopen\u001b[0m\u001b[1;33m(\u001b[0m\u001b[1;34m'data_sm.csv'\u001b[0m\u001b[1;33m)\u001b[0m \u001b[1;32mas\u001b[0m \u001b[0mf\u001b[0m\u001b[1;33m:\u001b[0m\u001b[1;33m\u001b[0m\u001b[1;33m\u001b[0m\u001b[0m\n\u001b[0;32m      2\u001b[0m     \u001b[0mreader\u001b[0m \u001b[1;33m=\u001b[0m \u001b[0mcsv\u001b[0m\u001b[1;33m.\u001b[0m\u001b[0mDictReader\u001b[0m\u001b[1;33m(\u001b[0m\u001b[0mf\u001b[0m\u001b[1;33m)\u001b[0m\u001b[1;33m\u001b[0m\u001b[1;33m\u001b[0m\u001b[0m\n\u001b[1;32m----> 3\u001b[1;33m     \u001b[0mhelpers\u001b[0m\u001b[1;33m.\u001b[0m\u001b[0mbulk\u001b[0m\u001b[1;33m(\u001b[0m\u001b[0mes\u001b[0m\u001b[1;33m,\u001b[0m \u001b[0mreader\u001b[0m\u001b[1;33m,\u001b[0m \u001b[0mindex\u001b[0m\u001b[1;33m=\u001b[0m\u001b[1;34m'my-index'\u001b[0m\u001b[1;33m,\u001b[0m \u001b[0mdoc_type\u001b[0m\u001b[1;33m=\u001b[0m\u001b[1;34m'csv'\u001b[0m\u001b[1;33m)\u001b[0m\u001b[1;33m\u001b[0m\u001b[1;33m\u001b[0m\u001b[0m\n\u001b[0m",
      "\u001b[1;32m~\\AppData\\Roaming\\Python\\Python37\\site-packages\\elasticsearch\\helpers\\actions.py\u001b[0m in \u001b[0;36mbulk\u001b[1;34m(client, actions, stats_only, *args, **kwargs)\u001b[0m\n\u001b[0;32m    298\u001b[0m     \u001b[1;31m# make streaming_bulk yield successful results so we can count them\u001b[0m\u001b[1;33m\u001b[0m\u001b[1;33m\u001b[0m\u001b[1;33m\u001b[0m\u001b[0m\n\u001b[0;32m    299\u001b[0m     \u001b[0mkwargs\u001b[0m\u001b[1;33m[\u001b[0m\u001b[1;34m\"yield_ok\"\u001b[0m\u001b[1;33m]\u001b[0m \u001b[1;33m=\u001b[0m \u001b[1;32mTrue\u001b[0m\u001b[1;33m\u001b[0m\u001b[1;33m\u001b[0m\u001b[0m\n\u001b[1;32m--> 300\u001b[1;33m     \u001b[1;32mfor\u001b[0m \u001b[0mok\u001b[0m\u001b[1;33m,\u001b[0m \u001b[0mitem\u001b[0m \u001b[1;32min\u001b[0m \u001b[0mstreaming_bulk\u001b[0m\u001b[1;33m(\u001b[0m\u001b[0mclient\u001b[0m\u001b[1;33m,\u001b[0m \u001b[0mactions\u001b[0m\u001b[1;33m,\u001b[0m \u001b[1;33m*\u001b[0m\u001b[0margs\u001b[0m\u001b[1;33m,\u001b[0m \u001b[1;33m**\u001b[0m\u001b[0mkwargs\u001b[0m\u001b[1;33m)\u001b[0m\u001b[1;33m:\u001b[0m\u001b[1;33m\u001b[0m\u001b[1;33m\u001b[0m\u001b[0m\n\u001b[0m\u001b[0;32m    301\u001b[0m         \u001b[1;31m# go through request-response pairs and detect failures\u001b[0m\u001b[1;33m\u001b[0m\u001b[1;33m\u001b[0m\u001b[1;33m\u001b[0m\u001b[0m\n\u001b[0;32m    302\u001b[0m         \u001b[1;32mif\u001b[0m \u001b[1;32mnot\u001b[0m \u001b[0mok\u001b[0m\u001b[1;33m:\u001b[0m\u001b[1;33m\u001b[0m\u001b[1;33m\u001b[0m\u001b[0m\n",
      "\u001b[1;32m~\\AppData\\Roaming\\Python\\Python37\\site-packages\\elasticsearch\\helpers\\actions.py\u001b[0m in \u001b[0;36mstreaming_bulk\u001b[1;34m(client, actions, chunk_size, max_chunk_bytes, raise_on_error, expand_action_callback, raise_on_exception, max_retries, initial_backoff, max_backoff, yield_ok, *args, **kwargs)\u001b[0m\n\u001b[0;32m    228\u001b[0m                         \u001b[0mraise_on_error\u001b[0m\u001b[1;33m,\u001b[0m\u001b[1;33m\u001b[0m\u001b[1;33m\u001b[0m\u001b[0m\n\u001b[0;32m    229\u001b[0m                         \u001b[1;33m*\u001b[0m\u001b[0margs\u001b[0m\u001b[1;33m,\u001b[0m\u001b[1;33m\u001b[0m\u001b[1;33m\u001b[0m\u001b[0m\n\u001b[1;32m--> 230\u001b[1;33m                         \u001b[1;33m**\u001b[0m\u001b[0mkwargs\u001b[0m\u001b[1;33m\u001b[0m\u001b[1;33m\u001b[0m\u001b[0m\n\u001b[0m\u001b[0;32m    231\u001b[0m                     ),\n\u001b[0;32m    232\u001b[0m                 ):\n",
      "\u001b[1;32m~\\AppData\\Roaming\\Python\\Python37\\site-packages\\elasticsearch\\helpers\\actions.py\u001b[0m in \u001b[0;36m_process_bulk_chunk\u001b[1;34m(client, bulk_actions, bulk_data, raise_on_exception, raise_on_error, *args, **kwargs)\u001b[0m\n\u001b[0;32m    156\u001b[0m \u001b[1;33m\u001b[0m\u001b[0m\n\u001b[0;32m    157\u001b[0m     \u001b[1;32mif\u001b[0m \u001b[0merrors\u001b[0m\u001b[1;33m:\u001b[0m\u001b[1;33m\u001b[0m\u001b[1;33m\u001b[0m\u001b[0m\n\u001b[1;32m--> 158\u001b[1;33m         \u001b[1;32mraise\u001b[0m \u001b[0mBulkIndexError\u001b[0m\u001b[1;33m(\u001b[0m\u001b[1;34m\"%i document(s) failed to index.\"\u001b[0m \u001b[1;33m%\u001b[0m \u001b[0mlen\u001b[0m\u001b[1;33m(\u001b[0m\u001b[0merrors\u001b[0m\u001b[1;33m)\u001b[0m\u001b[1;33m,\u001b[0m \u001b[0merrors\u001b[0m\u001b[1;33m)\u001b[0m\u001b[1;33m\u001b[0m\u001b[1;33m\u001b[0m\u001b[0m\n\u001b[0m\u001b[0;32m    159\u001b[0m \u001b[1;33m\u001b[0m\u001b[0m\n\u001b[0;32m    160\u001b[0m \u001b[1;33m\u001b[0m\u001b[0m\n",
      "\u001b[1;31mBulkIndexError\u001b[0m: ('10 document(s) failed to index.', [{'index': {'_index': 'my-index', '_type': 'csv', '_id': 'B0emFXIBkMp4belsEhC1', 'status': 400, 'error': {'type': 'illegal_argument_exception', 'reason': 'Rejecting mapping update to [my-index] as the final mapping would have more than 1 type: [_doc, csv]'}, 'data': OrderedDict([('ï»¿company_name', '42'), ('id', 'dab633e6-92bc-92a4-b749-21da835ad266'), ('homepage_url', 'http://www.42.fr')])}}, {'index': {'_index': 'my-index', '_type': 'csv', '_id': 'CEemFXIBkMp4belsEhC1', 'status': 400, 'error': {'type': 'illegal_argument_exception', 'reason': 'Rejecting mapping update to [my-index] as the final mapping would have more than 1 type: [_doc, csv]'}, 'data': OrderedDict([('ï»¿company_name', '47'), ('id', 'db4be793-725e-468e-abbd-c058078d67c6'), ('homepage_url', 'http://47brand.com')])}}, {'index': {'_index': 'my-index', '_type': 'csv', '_id': 'CUemFXIBkMp4belsEhC1', 'status': 400, 'error': {'type': 'illegal_argument_exception', 'reason': 'Rejecting mapping update to [my-index] as the final mapping would have more than 1 type: [_doc, csv]'}, 'data': OrderedDict([('ï»¿company_name', '52'), ('id', '861d168c-b703-47ed-8b23-1cc06c3a297d'), ('homepage_url', 'https://52inc.com/')])}}, {'index': {'_index': 'my-index', '_type': 'csv', '_id': 'CkemFXIBkMp4belsEhC1', 'status': 400, 'error': {'type': 'illegal_argument_exception', 'reason': 'Rejecting mapping update to [my-index] as the final mapping would have more than 1 type: [_doc, csv]'}, 'data': OrderedDict([('ï»¿company_name', '55'), ('id', '01eb53db-bcee-c57f-3ab1-54fb53f6de65'), ('homepage_url', 'http://www.fifty-five.com')])}}, {'index': {'_index': 'my-index', '_type': 'csv', '_id': 'C0emFXIBkMp4belsEhC1', 'status': 400, 'error': {'type': 'illegal_argument_exception', 'reason': 'Rejecting mapping update to [my-index] as the final mapping would have more than 1 type: [_doc, csv]'}, 'data': OrderedDict([('ï»¿company_name', '99'), ('id', 'c1723121-d8a2-457c-1b81-25fc42e78d95'), ('homepage_url', 'http://99app.com')])}}, {'index': {'_index': 'my-index', '_type': 'csv', '_id': 'DEemFXIBkMp4belsEhC1', 'status': 400, 'error': {'type': 'illegal_argument_exception', 'reason': 'Rejecting mapping update to [my-index] as the final mapping would have more than 1 type: [_doc, csv]'}, 'data': OrderedDict([('ï»¿company_name', '111'), ('id', '0680987f-23cd-4fa5-850c-38326fffaa36'), ('homepage_url', 'http://corporate.111.com.cn')])}}, {'index': {'_index': 'my-index', '_type': 'csv', '_id': 'DUemFXIBkMp4belsEhC1', 'status': 400, 'error': {'type': 'illegal_argument_exception', 'reason': 'Rejecting mapping update to [my-index] as the final mapping would have more than 1 type: [_doc, csv]'}, 'data': OrderedDict([('ï»¿company_name', '121'), ('id', 'f937b68d-577b-4a77-8f6f-39d29fb220fd'), ('homepage_url', 'http://121corp.com')])}}, {'index': {'_index': 'my-index', '_type': 'csv', '_id': 'DkemFXIBkMp4belsEhC1', 'status': 400, 'error': {'type': 'illegal_argument_exception', 'reason': 'Rejecting mapping update to [my-index] as the final mapping would have more than 1 type: [_doc, csv]'}, 'data': OrderedDict([('ï»¿company_name', '216'), ('id', '11b04fed-bd66-7a84-32cd-3a8df0e36045'), ('homepage_url', 'https://www.216.nl/')])}}, {'index': {'_index': 'my-index', '_type': 'csv', '_id': 'D0emFXIBkMp4belsEhC1', 'status': 400, 'error': {'type': 'illegal_argument_exception', 'reason': 'Rejecting mapping update to [my-index] as the final mapping would have more than 1 type: [_doc, csv]'}, 'data': OrderedDict([('ï»¿company_name', '237'), ('id', 'bd023349-36d4-4ec4-de8b-427dac4291f7'), ('homepage_url', 'http://237.io/')])}}, {'index': {'_index': 'my-index', '_type': 'csv', '_id': 'EEemFXIBkMp4belsEhC1', 'status': 400, 'error': {'type': 'illegal_argument_exception', 'reason': 'Rejecting mapping update to [my-index] as the final mapping would have more than 1 type: [_doc, csv]'}, 'data': OrderedDict([('ï»¿company_name', '366'), ('id', 'ba116a57-c83c-0d99-0f71-dd0735fc19e7'), ('homepage_url', 'http://www.366.fr/')])}}])"
     ]
    }
   ],
   "source": [
    "with open('data_sm.csv') as f:\n",
    "    reader = csv.DictReader(f)\n",
    "    helpers.bulk(es, reader, index='my-index', doc_type='csv')"
   ]
  },
  {
   "cell_type": "code",
   "execution_count": null,
   "metadata": {},
   "outputs": [],
   "source": []
  },
  {
   "cell_type": "code",
   "execution_count": null,
   "metadata": {},
   "outputs": [],
   "source": []
  },
  {
   "cell_type": "code",
   "execution_count": null,
   "metadata": {},
   "outputs": [],
   "source": []
  },
  {
   "cell_type": "code",
   "execution_count": null,
   "metadata": {},
   "outputs": [],
   "source": []
  },
  {
   "cell_type": "code",
   "execution_count": null,
   "metadata": {},
   "outputs": [],
   "source": []
  },
  {
   "cell_type": "code",
   "execution_count": null,
   "metadata": {},
   "outputs": [],
   "source": []
  },
  {
   "cell_type": "code",
   "execution_count": null,
   "metadata": {},
   "outputs": [],
   "source": []
  },
  {
   "cell_type": "code",
   "execution_count": null,
   "metadata": {},
   "outputs": [],
   "source": []
  },
  {
   "cell_type": "code",
   "execution_count": null,
   "metadata": {},
   "outputs": [],
   "source": []
  },
  {
   "cell_type": "code",
   "execution_count": null,
   "metadata": {},
   "outputs": [],
   "source": []
  }
 ],
 "metadata": {
  "kernelspec": {
   "display_name": "Python 3",
   "language": "python",
   "name": "python3"
  },
  "language_info": {
   "codemirror_mode": {
    "name": "ipython",
    "version": 3
   },
   "file_extension": ".py",
   "mimetype": "text/x-python",
   "name": "python",
   "nbconvert_exporter": "python",
   "pygments_lexer": "ipython3",
   "version": "3.7.1"
  }
 },
 "nbformat": 4,
 "nbformat_minor": 2
}
